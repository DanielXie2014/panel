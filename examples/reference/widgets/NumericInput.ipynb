{
 "cells": [
  {
   "cell_type": "code",
   "execution_count": null,
   "metadata": {},
   "outputs": [],
   "source": [
    "import panel as pn\n",
    "pn.extension()"
   ]
  },
  {
   "cell_type": "markdown",
   "metadata": {},
   "source": [
    "The ``NumericInput`` widget allows entering any Python number and handle the displayed format using a text entry box whose contents are then convert in Python numeric type. The widget only supports Python numeric types. Optionally a ``type`` may be declared to switch between `float` and `int`.\n",
    "\n",
    "For more information about listening to widget events and laying out widgets refer to the [widgets user guide](../../user_guide/Widgets.ipynb). Alternatively you can learn how to build GUIs by declaring parameters independently of any specific widgets in the [param user guide](../../user_guide/Param.ipynb). This widget does not support interactivity entirely using Javascript. A python server is needed for string convertion and number formatting.\n",
    "\n",
    "#### Parameters:\n",
    "\n",
    "For layout and styling related parameters see the [customization user guide](../../user_guide/Customization.ipynb).\n",
    "\n",
    "##### Core\n",
    "\n",
    "* **``type``** (type float or type int): A Python numeric type\n",
    "* **``value``** (number): The numeric value\n",
    "* **``start``** (float or int): Optional minimum allowable value\n",
    "* **``end``** (float or int): Optional maximum allowable value\n",
    "\n",
    "##### Display\n",
    "\n",
    "* **``formatter``** (string): A Python string formatter (eg. ``'{:.2f}'``, to display the value with 2 decimals). If `None` the Python ``str`` function is used as formatter\n",
    "* **``disabled``** (boolean): Whether the widget is editable\n",
    "* **``name``** (string): The title of the widget\n",
    "* **``placeholder``** (number): A placeholder string displayed when no value is entered\n",
    "\n",
    "___"
   ]
  },
  {
   "cell_type": "code",
   "execution_count": null,
   "metadata": {},
   "outputs": [],
   "source": [
    "numeric_input = pn.widgets.input.NumericInput(name='Numeric Input', value=0, type=float, end=25, formatter='{:.3f}')\n",
    "numeric_input"
   ]
  },
  {
   "cell_type": "markdown",
   "metadata": {},
   "source": [
    "``NumericInput.value`` returns the value of the widget and can be used to set it"
   ]
  },
  {
   "cell_type": "code",
   "execution_count": null,
   "metadata": {},
   "outputs": [],
   "source": [
    "numeric_input.value"
   ]
  },
  {
   "cell_type": "markdown",
   "metadata": {},
   "source": [
    "### Controls\n",
    "\n",
    "The `NumericInput` widget exposes a number of options which can be changed from both Python and Javascript. Try out the effect of these parameters interactively:"
   ]
  },
  {
   "cell_type": "code",
   "execution_count": null,
   "metadata": {},
   "outputs": [],
   "source": [
    "pn.Row(numeric_input.controls(jslink=True), numeric_input)"
   ]
  },
  {
   "cell_type": "code",
   "execution_count": null,
   "metadata": {},
   "outputs": [],
   "source": []
  }
 ],
 "metadata": {
  "kernelspec": {
   "display_name": "Python 3",
   "language": "python",
   "name": "python3"
  },
  "language_info": {
   "codemirror_mode": {
    "name": "ipython",
    "version": 3
   },
   "file_extension": ".py",
   "mimetype": "text/x-python",
   "name": "python",
   "nbconvert_exporter": "python",
   "pygments_lexer": "ipython3",
   "version": "3.8.2"
  }
 },
 "nbformat": 4,
 "nbformat_minor": 4
}
